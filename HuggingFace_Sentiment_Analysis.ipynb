{
 "cells": [
  {
   "cell_type": "markdown",
   "id": "a092aa17",
   "metadata": {},
   "source": [
    "# 🤗 Hugging Face Sentiment Analysis with Pre-trained Models\n",
    "In this notebook, we'll use Hugging Face to perform sentiment analysis with a BERT-based model and test it on real movie reviews."
   ]
  },
  {
   "cell_type": "code",
   "execution_count": null,
   "id": "b669c17c",
   "metadata": {},
   "outputs": [],
   "source": [
    "!pip install transformers datasets"
   ]
  },
  {
   "cell_type": "markdown",
   "id": "33dbc686",
   "metadata": {},
   "source": [
    "## 🚀 Load Pretrained Model and Tokenizer"
   ]
  },
  {
   "cell_type": "code",
   "execution_count": null,
   "id": "e877714c",
   "metadata": {},
   "outputs": [],
   "source": [
    "from transformers import AutoModelForSequenceClassification, AutoTokenizer\n",
    "import torch\n",
    "\n",
    "model_name = \"distilbert-base-uncased-finetuned-sst-2-english\"\n",
    "\n",
    "pt_model = AutoModelForSequenceClassification.from_pretrained(model_name)\n",
    "tokenizer = AutoTokenizer.from_pretrained(model_name)"
   ]
  },
  {
   "cell_type": "markdown",
   "id": "a899a97f",
   "metadata": {},
   "source": [
    "## 🧠 Define a Function to Predict Sentiment"
   ]
  },
  {
   "cell_type": "code",
   "execution_count": null,
   "id": "bd4c0d7e",
   "metadata": {},
   "outputs": [],
   "source": [
    "def get_prediction(review):\n",
    "    \"\"\"Given a review, return the predicted sentiment\"\"\"\n",
    "    inputs = tokenizer(review, return_tensors=\"pt\")\n",
    "    outputs = pt_model(**inputs)\n",
    "    predictions = torch.argmax(outputs.logits, dim=-1)\n",
    "    return \"positive\" if predictions.item() == 1 else \"negative\""
   ]
  },
  {
   "cell_type": "markdown",
   "id": "f7fefbe0",
   "metadata": {},
   "source": [
    "## 🧪 Test the Model on Two Sentences"
   ]
  },
  {
   "cell_type": "code",
   "execution_count": null,
   "id": "631bc380",
   "metadata": {},
   "outputs": [],
   "source": [
    "review = \"This movie is not so great :(\"\n",
    "print(f\"Review: {review}\")\n",
    "print(f\"Sentiment: {get_prediction(review)}\")\n",
    "\n",
    "assert get_prediction(review) == \"negative\", \"The prediction should be negative\"\n",
    "\n",
    "review = \"This movie rocks!\"\n",
    "print(f\"Review: {review}\")\n",
    "print(f\"Sentiment: {get_prediction(review)}\")\n",
    "\n",
    "assert get_prediction(review) == \"positive\", \"The prediction should be positive\" "
   ]
  },
  {
   "cell_type": "markdown",
   "id": "0b7f3a60",
   "metadata": {},
   "source": [
    "## 📥 Load IMDB Dataset from Hugging Face"
   ]
  },
  {
   "cell_type": "code",
   "execution_count": null,
   "id": "547de80e",
   "metadata": {},
   "outputs": [],
   "source": [
    "from datasets import load_dataset\n",
    "dataset = load_dataset(\"imdb\", split=\"test\")\n",
    "dataset"
   ]
  },
  {
   "cell_type": "markdown",
   "id": "64a25662",
   "metadata": {},
   "source": [
    "## ✅ Check Dataset Structure"
   ]
  },
  {
   "cell_type": "code",
   "execution_count": null,
   "id": "fcfe66c2",
   "metadata": {},
   "outputs": [],
   "source": [
    "from datasets import Dataset\n",
    "from pprint import pprint\n",
    "\n",
    "assert isinstance(dataset, Dataset), \"The dataset should be a Dataset object\"\n",
    "assert set(dataset.features.keys()) == {\"label\", \"text\"}, \"The dataset should have 'label' and 'text' features\"\n",
    "\n",
    "# Show the first example\n",
    "pprint(dataset[0])"
   ]
  },
  {
   "cell_type": "markdown",
   "id": "087760aa",
   "metadata": {},
   "source": [
    "## 📊 Make Predictions on Real Movie Reviews"
   ]
  },
  {
   "cell_type": "code",
   "execution_count": null,
   "id": "055b8cff",
   "metadata": {},
   "outputs": [],
   "source": [
    "# Get the last 3 reviews and their labels\n",
    "reviews = dataset[\"text\"][-3:]\n",
    "labels = dataset[\"label\"][-3:]\n",
    "\n",
    "# Check predictions\n",
    "for review, label in zip(reviews, labels):\n",
    "    prediction = get_prediction(review)\n",
    "    print(f\"Review: {review[:80]} \\n... {review[-80:]}\")\n",
    "    print(f'Label: {\"positive\" if label else \"negative\"}')\n",
    "    print(f\"Prediction: {prediction}\\n\")"
   ]
  },
  {
   "cell_type": "markdown",
   "id": "772bc269",
   "metadata": {},
   "source": [
    "🎉 Congratulations! You've successfully used a Hugging Face pre-trained model to analyze real-world sentiment data."
   ]
  }
 ],
 "metadata": {},
 "nbformat": 4,
 "nbformat_minor": 5
}
